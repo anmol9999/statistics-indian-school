{
 "cells": [
  {
   "cell_type": "code",
   "execution_count": 1,
   "metadata": {},
   "outputs": [],
   "source": [
    "import numpy as np # linear algebra\n",
    "import pandas as pd # data processing, CSV file I/O (e.g. pd.read_csv)\n",
    "\n",
    "import pandas as pd\n",
    "import matplotlib.pyplot as plt\n",
    "import seaborn as sns\n",
    "import plotly.express as px\n",
    "import numpy as np\n",
    "import warnings\n",
    "warnings.filterwarnings('ignore')\n",
    "\n",
    "import os\n",
    "for dirname, _, filenames in os.walk('/kaggle/input'):\n",
    "    for filename in filenames:\n",
    "        print(os.path.join(dirname, filename))\n",
    "\n"
   ]
  },
  {
   "cell_type": "code",
   "execution_count": 2,
   "metadata": {},
   "outputs": [],
   "source": [
    "dropout = pd.read_csv('../datasets/dropout_ratio.csv')\n",
    "enroll = pd.read_csv('../datasets/enrollment_ratio.csv')\n",
    "comps = pd.read_csv('../datasets/percentage-of-schools-with-comps.csv')\n",
    "electricity = pd.read_csv('../datasets/percentage-of-schools-with-electricity.csv')\n",
    "water = pd.read_csv('../datasets/percentage-of-schools-with-water-facility.csv')\n",
    "boys_toilet = pd.read_csv('../datasets/schools-with-boys-toilet.csv')\n",
    "girls_toilet = pd.read_csv('../datasets/schools-with-girls-toilet.csv')\n",
    "\n"
   ]
  },
  {
   "cell_type": "code",
   "execution_count": 3,
   "metadata": {},
   "outputs": [
    {
     "name": "stdout",
     "output_type": "stream",
     "text": [
      "                    State_UT     year  Primary_Only  Primary_with_U_Primary  \\\n",
      "0                  All India  2013-14         88.68                   95.98   \n",
      "1                  All India  2014-15         91.21                   96.92   \n",
      "2                  All India  2015-16         96.95                   99.03   \n",
      "3  Andaman & Nicobar Islands  2013-14         89.74                   97.37   \n",
      "4  Andaman & Nicobar Islands  2014-15        100.00                  100.00   \n",
      "\n",
      "   Primary_with_U_Primary_Sec_HrSec  U_Primary_Only  U_Primary_With_Sec_HrSec  \\\n",
      "0                             98.81           91.39                     98.25   \n",
      "1                             99.48           91.39                     99.23   \n",
      "2                             99.72           96.32                     99.60   \n",
      "3                            100.00            0.00                    100.00   \n",
      "4                            100.00          100.00                    100.00   \n",
      "\n",
      "   Primary_with_U_Primary_Sec  U_Primary_With_Sec  Sec_Only  Sec_with_HrSec.  \\\n",
      "0                       97.33               94.40     99.06            98.36   \n",
      "1                       98.19               96.61     90.26            94.05   \n",
      "2                       99.31               98.82     95.18            98.31   \n",
      "3                      100.00                0.00      0.00           100.00   \n",
      "4                      100.00                0.00      0.00           100.00   \n",
      "\n",
      "   HrSec_Only  All Schools  \n",
      "0       76.14        91.23  \n",
      "1       90.94        93.08  \n",
      "2       96.22        97.52  \n",
      "3        0.00        93.44  \n",
      "4        0.00       100.00  \n"
     ]
    }
   ],
   "source": [
    "print(girls_toilet.head())"
   ]
  },
  {
   "cell_type": "code",
   "execution_count": 4,
   "metadata": {},
   "outputs": [
    {
     "name": "stdout",
     "output_type": "stream",
     "text": [
      "<class 'pandas.core.frame.DataFrame'>\n",
      "RangeIndex: 110 entries, 0 to 109\n",
      "Data columns (total 13 columns):\n",
      " #   Column                            Non-Null Count  Dtype  \n",
      "---  ------                            --------------  -----  \n",
      " 0   State_UT                          110 non-null    object \n",
      " 1   year                              110 non-null    object \n",
      " 2   Primary_Only                      110 non-null    float64\n",
      " 3   Primary_with_U_Primary            110 non-null    float64\n",
      " 4   Primary_with_U_Primary_Sec_HrSec  110 non-null    float64\n",
      " 5   U_Primary_Only                    110 non-null    float64\n",
      " 6   U_Primary_With_Sec_HrSec          110 non-null    float64\n",
      " 7   Primary_with_U_Primary_Sec        110 non-null    float64\n",
      " 8   U_Primary_With_Sec                110 non-null    float64\n",
      " 9   Sec_Only                          110 non-null    float64\n",
      " 10  Sec_with_HrSec.                   110 non-null    float64\n",
      " 11  HrSec_Only                        110 non-null    float64\n",
      " 12  All Schools                       110 non-null    float64\n",
      "dtypes: float64(11), object(2)\n",
      "memory usage: 11.3+ KB\n"
     ]
    }
   ],
   "source": [
    "girls_toilet.info()"
   ]
  },
  {
   "cell_type": "markdown",
   "metadata": {},
   "source": [
    "Variation in girls toilet at All India level"
   ]
  },
  {
   "cell_type": "code",
   "execution_count": 5,
   "metadata": {},
   "outputs": [
    {
     "data": {
      "text/plain": [
       "Text(0.5, 1.0, 'All India_girls_toilet_%')"
      ]
     },
     "execution_count": 5,
     "metadata": {},
     "output_type": "execute_result"
    },
    {
     "data": {
      "image/png": "[encoded data removed]",
      "text/plain": [
       "<Figure size 432x288 with 1 Axes>"
      ]
     },
     "metadata": {
      "needs_background": "light"
     },
     "output_type": "display_data"
    }
   ],
   "source": [
    "data = girls_toilet.loc[girls_toilet['State_UT']== 'All India']\n",
    "plt.bar(data.year,data['All Schools'],color ='y')\n",
    "plt.legend(['All Schools'])\n",
    "plt.title('All India_girls_toilet_%')"
   ]
  },
  {
   "cell_type": "markdown",
   "metadata": {},
   "source": [
    "Type of School wise change in % of girls toilet through the years"
   ]
  },
  {
   "cell_type": "code",
   "execution_count": 6,
   "metadata": {},
   "outputs": [
    {
     "data": {
      "text/plain": [
       "Text(0.5, 1.0, 'AllIndia_Girls_toilet_%')"
      ]
     },
     "execution_count": 6,
     "metadata": {},
     "output_type": "execute_result"
    },
    {
     "data": {
      "image/png": "[encoded data removed]",
      "text/plain": [
       "<Figure size 1080x360 with 1 Axes>"
      ]
     },
     "metadata": {
      "needs_background": "light"
     },
     "output_type": "display_data"
    }
   ],
   "source": [
    "X = np.arange(3)\n",
    "fig = plt.subplots(figsize = (15,5))\n",
    "plt.bar(X + 0.00, data['Primary_Only'], color = 'b', width = 0.05, label='Primary_Only')\n",
    "plt.bar(X + 0.05, data['U_Primary_Only'], color = 'g', width = 0.05,label = 'U_Primary_Only')\n",
    "plt.bar(X + 0.10, data['Primary_with_U_Primary_Sec_HrSec'], color = 'r', width = 0.05,label='Primary_with_U_Primary_Sec_HrSec')\n",
    "plt.bar(X + 0.15, data['Primary_with_U_Primary'], color = 'm', width = 0.05,label='Primary_with_U_Primary')\n",
    "plt.bar(X + 0.20, data['U_Primary_With_Sec_HrSec'], color = 'c', width = 0.05,label='U_Primary_With_Sec_HrSec')\n",
    "plt.bar(X + 0.25, data['Primary_with_U_Primary_Sec'], color = 'y', width = 0.05,label='Primary_with_U_Primary_Sec')\n",
    "plt.bar(X + 0.30, data['U_Primary_With_Sec'], color = 'k', width = 0.05,label='U_Primary_With_Sec')\n",
    "plt.bar(X + 0.35, data['Sec_Only'], color = 'grey', width = 0.05,label='Sec_Only')\n",
    "plt.bar(X + 0.40, data['Sec_with_HrSec.'], color = 'orange', width = 0.05,label='Sec_with_HrSec.')\n",
    "plt.bar(X + 0.45, data['HrSec_Only'], color = 'turquoise', width = 0.05,label='HrSec_Only')\n",
    "\n",
    "\n",
    "plt.legend(['Primary_Only','U_Primary_Only','Primary_with_U_Primary_Sec_HrSec','Primary_with_U_Primary','U_Primary_With_Sec_HrSec',\n",
    "           'Primary_with_U_Primary_Sec','U_Primary_With_Sec','Sec_Only','Sec_with_HrSec.','HrSec_Only'], loc='center left',bbox_to_anchor=(1, 0.5))\n",
    "plt.xlabel('YEAR', fontweight ='bold') \n",
    "plt.ylabel('PERCENTAGE', fontweight ='bold') \n",
    "plt.xticks([r + 0.20 for r in range(0,3)], \n",
    "           ['2013-14', '2014-15', '2015-16']) \n",
    "plt.title('AllIndia_Girls_toilet_%')\n",
    "#plt.show()\n",
    "\n"
   ]
  },
  {
   "cell_type": "markdown",
   "metadata": {},
   "source": [
    "Variation in boys toilet at All India level"
   ]
  },
  {
   "cell_type": "code",
   "execution_count": 7,
   "metadata": {},
   "outputs": [
    {
     "data": {
      "text/plain": [
       "Text(0.5, 1.0, 'AllIndia_boys_toilet_%')"
      ]
     },
     "execution_count": 7,
     "metadata": {},
     "output_type": "execute_result"
    },
    {
     "data": {
      "image/png": "[encoded data removed]",
      "text/plain": [
       "<Figure size 432x288 with 1 Axes>"
      ]
     },
     "metadata": {
      "needs_background": "light"
     },
     "output_type": "display_data"
    }
   ],
   "source": [
    "boys_data = boys_toilet.loc[boys_toilet['State_UT']=='All India']\n",
    "plt.bar(boys_data.year,boys_data['All Schools'], color='r')\n",
    "plt.legend(['All Schools'])\n",
    "plt.title('AllIndia_boys_toilet_%')"
   ]
  },
  {
   "cell_type": "markdown",
   "metadata": {},
   "source": [
    "Type of School wise change in % of boys toilet through out the years"
   ]
  },
  {
   "cell_type": "code",
   "execution_count": 8,
   "metadata": {},
   "outputs": [
    {
     "data": {
      "text/plain": [
       "Text(0.5, 1.0, 'AllIndia_boys_toilet_%')"
      ]
     },
     "execution_count": 8,
     "metadata": {},
     "output_type": "execute_result"
    },
    {
     "data": {
      "image/png": "[encoded data removed]",
      "text/plain": [
       "<Figure size 1080x360 with 1 Axes>"
      ]
     },
     "metadata": {
      "needs_background": "light"
     },
     "output_type": "display_data"
    }
   ],
   "source": [
    "X = np.arange(3)\n",
    "fig = plt.subplots(figsize =(15,5)) \n",
    "plt.bar(X + 0.00, boys_data['Primary_Only'], color = 'b', width = 0.05, label='Primary_Only')\n",
    "plt.bar(X + 0.05, boys_data['U_Primary_Only'], color = 'g', width = 0.05,label = 'U_Primary_Only')\n",
    "plt.bar(X + 0.10, boys_data['Primary_with_U_Primary_Sec_HrSec'], color = 'r', width = 0.05,label='Primary_with_U_Primary_Sec_HrSec')\n",
    "plt.bar(X + 0.15, boys_data['Primary_with_U_Primary'], color = 'm', width = 0.05,label='Primary_with_U_Primary')\n",
    "plt.bar(X + 0.20, boys_data['U_Primary_With_Sec_HrSec'], color = 'c', width = 0.05,label='U_Primary_With_Sec_HrSec')\n",
    "plt.bar(X + 0.25, boys_data['Primary_with_U_Primary_Sec'], color = 'y', width = 0.05,label='Primary_with_U_Primary_Sec')\n",
    "plt.bar(X + 0.30, boys_data['U_Primary_With_Sec'], color = 'k', width = 0.05,label='U_Primary_With_Sec')\n",
    "plt.bar(X + 0.35, boys_data['Sec_Only'], color = 'grey', width = 0.05,label='Sec_Only')\n",
    "plt.bar(X + 0.40, boys_data['Sec_with_HrSec.'], color = 'orange', width = 0.05,label='Sec_with_HrSec.')\n",
    "plt.bar(X + 0.45, boys_data['HrSec_Only'], color = 'turquoise', width = 0.05,label='HrSec_Only')\n",
    "\n",
    "\n",
    "plt.legend(['Primary_Only','U_Primary_Only','Primary_with_U_Primary_Sec_HrSec','Primary_with_U_Primary','U_Primary_With_Sec_HrSec',\n",
    "           'Primary_with_U_Primary_Sec','U_Primary_With_Sec','Sec_Only','Sec_with_HrSec.','HrSec_Only'], loc='center left',bbox_to_anchor=(1, 0.5))\n",
    "plt.xlabel('YEAR', fontweight ='bold') \n",
    "plt.ylabel('PERCENTAGE', fontweight ='bold') \n",
    "plt.xticks([r + 0.20 for r in range(0,3)], \n",
    "           ['2013-14', '2014-15', '2015-16']) \n",
    "plt.title('AllIndia_boys_toilet_%')\n",
    "#plt.show()"
   ]
  },
  {
   "cell_type": "markdown",
   "metadata": {},
   "source": [
    "Insights:\n",
    "\n",
    "1) Overall count of toilets for boys & girls both has improved throughout the years.\n",
    "2) Toilets should be 100% available in all schools and each state but still there are ~.04% of schools are facing the issue of toilets.\n",
    "3) Primary schools are required to be focused"
   ]
  },
  {
   "cell_type": "markdown",
   "metadata": {},
   "source": [
    "# Dropout Analysis"
   ]
  },
  {
   "cell_type": "code",
   "execution_count": 9,
   "metadata": {},
   "outputs": [],
   "source": [
    "dropout.head()\n",
    "dropout1 = dropout[['State_UT','year','Primary_Total','Upper Primary_Total','Secondary _Total','HrSecondary_Total']]\n"
   ]
  },
  {
   "cell_type": "code",
   "execution_count": 10,
   "metadata": {},
   "outputs": [
    {
     "name": "stdout",
     "output_type": "stream",
     "text": [
      "         State_UT     year Primary_Total Upper Primary_Total Secondary _Total  \\\n",
      "0   A & N Islands  2012-13          0.68                1.23             5.56   \n",
      "1   A & N Islands  2013-14          1.21                0.51              7.2   \n",
      "2   A & N Islands  2014-15          0.51                1.69             9.87   \n",
      "3  Andhra Pradesh  2012-13          3.18                3.36            12.72   \n",
      "4  Andhra Pradesh  2013-14          4.35                3.78            12.65   \n",
      "\n",
      "  HrSecondary_Total  \n",
      "0             14.14  \n",
      "1             15.87  \n",
      "2             16.93  \n",
      "3              0.35  \n",
      "4             11.79  \n"
     ]
    }
   ],
   "source": [
    "print(dropout1.head())\n"
   ]
  },
  {
   "cell_type": "code",
   "execution_count": 11,
   "metadata": {},
   "outputs": [],
   "source": [
    "c = dropout1.loc[dropout1['year'] =='2012-13']\n",
    "d = dropout1.loc[dropout1['year'] == '2013-14']\n",
    "e = dropout1.loc[dropout1['year'] == '2014-15']"
   ]
  },
  {
   "cell_type": "code",
   "execution_count": 12,
   "metadata": {},
   "outputs": [],
   "source": [
    "c = c.replace(to_replace='NR',value='NaN',regex = True)\n",
    "c['Primary_Total'] = c['Primary_Total'].values.astype(np.float32)\n",
    "c['Upper Primary_Total'] = c['Upper Primary_Total'].values.astype(np.float32)\n",
    "c['Secondary _Total'] = c['Secondary _Total'].values.astype(np.float32)\n",
    "c['HrSecondary_Total'] = c['HrSecondary_Total'].values.astype(np.float32)\n"
   ]
  },
  {
   "cell_type": "code",
   "execution_count": 13,
   "metadata": {},
   "outputs": [],
   "source": [
    "d = d.replace(to_replace='NR',value='NaN', regex=True)\n",
    "d['Primary_Total'] = d['Primary_Total'].values.astype(np.float32)\n",
    "d['Upper Primary_Total'] = d['Upper Primary_Total'].values.astype(np.float32)\n",
    "d['Secondary _Total'] = d['Secondary _Total'].values.astype(np.float32)\n",
    "d['HrSecondary_Total'] = d['HrSecondary_Total'].values.astype(np.float32)\n"
   ]
  },
  {
   "cell_type": "code",
   "execution_count": 14,
   "metadata": {},
   "outputs": [],
   "source": [
    "e = e.replace(to_replace='NR',value='NaN',regex = True)\n",
    "e['Primary_Total'] = e['Primary_Total'].values.astype(np.float32)\n",
    "e['Upper Primary_Total'] = e['Upper Primary_Total'].values.astype(np.float32)\n",
    "e['Secondary _Total'] = e['Secondary _Total'].values.astype(np.float32)\n",
    "e['HrSecondary_Total'] = e['HrSecondary_Total'].values.astype(np.float32)\n"
   ]
  },
  {
   "cell_type": "code",
   "execution_count": 15,
   "metadata": {},
   "outputs": [
    {
     "name": "stdout",
     "output_type": "stream",
     "text": [
      "<class 'pandas.core.frame.DataFrame'>\n",
      "Int64Index: 36 entries, 0 to 107\n",
      "Data columns (total 6 columns):\n",
      " #   Column               Non-Null Count  Dtype  \n",
      "---  ------               --------------  -----  \n",
      " 0   State_UT             36 non-null     object \n",
      " 1   year                 36 non-null     object \n",
      " 2   Primary_Total        29 non-null     float32\n",
      " 3   Upper Primary_Total  31 non-null     float32\n",
      " 4   Secondary _Total     34 non-null     float32\n",
      " 5   HrSecondary_Total    24 non-null     float32\n",
      "dtypes: float32(4), object(2)\n",
      "memory usage: 1.4+ KB\n"
     ]
    }
   ],
   "source": [
    "c.info()"
   ]
  },
  {
   "cell_type": "markdown",
   "metadata": {},
   "source": [
    "State wise variation in ratio throughout the year"
   ]
  },
  {
   "cell_type": "code",
   "execution_count": 16,
   "metadata": {},
   "outputs": [
    {
     "data": {
      "text/plain": [
       "<matplotlib.legend.Legend at 0x29e4a25c610>"
      ]
     },
     "execution_count": 16,
     "metadata": {},
     "output_type": "execute_result"
    },
    {
     "data": {
      "image/png": "[encoded data removed]",
      "text/plain": [
       "<Figure size 1080x360 with 1 Axes>"
      ]
     },
     "metadata": {
      "needs_background": "light"
     },
     "output_type": "display_data"
    },
    {
     "data": {
      "image/png": "[encoded data removed]",
      "text/plain": [
       "<Figure size 1080x360 with 1 Axes>"
      ]
     },
     "metadata": {
      "needs_background": "light"
     },
     "output_type": "display_data"
    },
    {
     "data": {
      "image/png": "[encoded data removed]",
      "text/plain": [
       "<Figure size 1080x360 with 1 Axes>"
      ]
     },
     "metadata": {
      "needs_background": "light"
     },
     "output_type": "display_data"
    }
   ],
   "source": [
    "# 2012 - 13\n",
    "fig = plt.subplots(figsize =(15,5))\n",
    "plt.xticks(rotation='vertical')\n",
    "plt.bar(c['State_UT'],c['Primary_Total'])\n",
    "plt.bar(c['State_UT'],c['Upper Primary_Total'],color = 'Black')\n",
    "plt.bar(c['State_UT'],c['Secondary _Total'])\n",
    "plt.bar(c['State_UT'],c['HrSecondary_Total'])\n",
    "\n",
    "plt.title('2012-13')\n",
    "plt.legend(['Primary_Total','Upper Primary_Total','Secondary _Total','HrSecondary_Total'])\n",
    "\n",
    "# 2013-14\n",
    "fig = plt.subplots(figsize = (15,5))\n",
    "plt.xticks(rotation = 'vertical')\n",
    "plt.bar(c['State_UT'],c['Primary_Total'])\n",
    "plt.bar(c['State_UT'],c['Upper Primary_Total'],color = 'Black')\n",
    "plt.bar(c['State_UT'],c['Secondary _Total'])\n",
    "plt.bar(c['State_UT'],c['HrSecondary_Total'], color = 'pink')\n",
    "\n",
    "\n",
    "\n",
    "plt.title('2013-14')\n",
    "plt.legend(['Primary_Total','Upper Primary_Total','Secondary _Total','HrSecondary_Total'])\n",
    "\n",
    "\n",
    "# 2014-15\n",
    "\n",
    "fig = plt.subplots(figsize = (15,5))\n",
    "plt.xticks(rotation = 'vertical')\n",
    "plt.bar(c['State_UT'],c['Primary_Total'])\n",
    "plt.bar(c['State_UT'],c['Upper Primary_Total'],color = 'red')\n",
    "plt.bar(c['State_UT'],c['Secondary _Total'])\n",
    "plt.bar(c['State_UT'],c['HrSecondary_Total'], color = 'cyan')\n",
    "\n",
    "\n",
    "plt.title('2014-15')\n",
    "plt.legend(['Primary_Total','Upper Primary_Total','Secondary _Total','HrSecondary_Total'])\n",
    "\n",
    "\n",
    "\n",
    "\n",
    "\n"
   ]
  },
  {
   "cell_type": "markdown",
   "metadata": {},
   "source": [
    "Insights:\n",
    "\n",
    "1. Maximum dropout ratio can be seen in Odisha for 2013 and 2014 years and Daman & Diu for 2015.\n",
    "2. dropout ratio of secondary students is more than other students. as we all know that after secondary, student selects their \n",
    "stream for further study and changes their board. Some students go to other states as well for the preparation of\n",
    "IIT/NEET/IPCC etc.\n"
   ]
  },
  {
   "cell_type": "markdown",
   "metadata": {},
   "source": [
    "# ENROLLMENT ANALYSIS"
   ]
  },
  {
   "cell_type": "code",
   "execution_count": 17,
   "metadata": {},
   "outputs": [
    {
     "name": "stdout",
     "output_type": "stream",
     "text": [
      "<class 'pandas.core.frame.DataFrame'>\n",
      "RangeIndex: 110 entries, 0 to 109\n",
      "Data columns (total 14 columns):\n",
      " #   Column                  Non-Null Count  Dtype  \n",
      "---  ------                  --------------  -----  \n",
      " 0   State_UT                110 non-null    object \n",
      " 1   Year                    110 non-null    object \n",
      " 2   Primary_Boys            110 non-null    float64\n",
      " 3   Primary_Girls           110 non-null    float64\n",
      " 4   Primary_Total           110 non-null    float64\n",
      " 5   Upper_Primary_Boys      110 non-null    float64\n",
      " 6   Upper_Primary_Girls     110 non-null    float64\n",
      " 7   Upper_Primary_Total     110 non-null    float64\n",
      " 8   Secondary_Boys          110 non-null    float64\n",
      " 9   Secondary_Girls         110 non-null    float64\n",
      " 10  Secondary_Total         110 non-null    float64\n",
      " 11  Higher_Secondary_Boys   110 non-null    object \n",
      " 12  Higher_Secondary_Girls  110 non-null    object \n",
      " 13  Higher_Secondary_Total  110 non-null    object \n",
      "dtypes: float64(9), object(5)\n",
      "memory usage: 12.2+ KB\n"
     ]
    }
   ],
   "source": [
    "enroll.info()"
   ]
  },
  {
   "cell_type": "code",
   "execution_count": 18,
   "metadata": {},
   "outputs": [],
   "source": [
    "enroll = enroll.replace(to_replace='NR',value = 'NaN', regex = True)\n",
    "enroll = enroll.replace(to_replace='@', value = 'NaN', regex = True)"
   ]
  },
  {
   "cell_type": "code",
   "execution_count": 19,
   "metadata": {},
   "outputs": [],
   "source": [
    "enroll['Higher_Secondary_Boys'] = enroll['Primary_Total'].values.astype(np.float64)\n",
    "enroll['Higher_Secondary_Girls'] = enroll['Higher_Secondary_Girls'].values.astype(np.float64)\n",
    "enroll['Higher_Secondary_Total'] = enroll['Higher_Secondary_Total'].values.astype(np.float64)"
   ]
  },
  {
   "cell_type": "code",
   "execution_count": 20,
   "metadata": {},
   "outputs": [
    {
     "name": "stdout",
     "output_type": "stream",
     "text": [
      "<class 'pandas.core.frame.DataFrame'>\n",
      "RangeIndex: 110 entries, 0 to 109\n",
      "Data columns (total 14 columns):\n",
      " #   Column                  Non-Null Count  Dtype  \n",
      "---  ------                  --------------  -----  \n",
      " 0   State_UT                110 non-null    object \n",
      " 1   Year                    110 non-null    object \n",
      " 2   Primary_Boys            110 non-null    float64\n",
      " 3   Primary_Girls           110 non-null    float64\n",
      " 4   Primary_Total           110 non-null    float64\n",
      " 5   Upper_Primary_Boys      110 non-null    float64\n",
      " 6   Upper_Primary_Girls     110 non-null    float64\n",
      " 7   Upper_Primary_Total     110 non-null    float64\n",
      " 8   Secondary_Boys          110 non-null    float64\n",
      " 9   Secondary_Girls         110 non-null    float64\n",
      " 10  Secondary_Total         110 non-null    float64\n",
      " 11  Higher_Secondary_Boys   110 non-null    float64\n",
      " 12  Higher_Secondary_Girls  108 non-null    float64\n",
      " 13  Higher_Secondary_Total  108 non-null    float64\n",
      "dtypes: float64(12), object(2)\n",
      "memory usage: 12.2+ KB\n"
     ]
    }
   ],
   "source": [
    "enroll.info()"
   ]
  },
  {
   "cell_type": "code",
   "execution_count": 21,
   "metadata": {},
   "outputs": [
    {
     "name": "stdout",
     "output_type": "stream",
     "text": [
      "      State_UT     Year  Primary_Boys  Primary_Girls  Primary_Total  \\\n",
      "35   All India  2013-14        100.20         102.65         101.36   \n",
      "72   All India  2015-16         97.87         100.69          99.21   \n",
      "109  All India  2014-15         98.85         101.43         100.08   \n",
      "\n",
      "     Upper_Primary_Boys  Upper_Primary_Girls  Upper_Primary_Total  \\\n",
      "35                86.31                92.75                89.33   \n",
      "72                88.72                97.57                92.81   \n",
      "109               87.71                95.29                91.24   \n",
      "\n",
      "     Secondary_Boys  Secondary_Girls  Secondary_Total  Higher_Secondary_Boys  \\\n",
      "35            76.80            76.47            76.64                 101.36   \n",
      "72            79.16            80.97            80.01                  99.21   \n",
      "109           78.13            78.94            78.51                 100.08   \n",
      "\n",
      "     Higher_Secondary_Girls  Higher_Secondary_Total  \n",
      "35                    51.58                   52.21  \n",
      "72                    56.41                   56.16  \n",
      "109                   53.81                   54.21  \n"
     ]
    }
   ],
   "source": [
    "enroll1 = enroll.loc[enroll['State_UT']== 'All India']\n",
    "print(enroll1)"
   ]
  },
  {
   "cell_type": "markdown",
   "metadata": {},
   "source": [
    "Difference Between Boys and Girls enrollment ratio"
   ]
  },
  {
   "cell_type": "code",
   "execution_count": 22,
   "metadata": {},
   "outputs": [
    {
     "data": {
      "text/plain": [
       "Text(0.5, 1.0, 'All India Boys & Girls Enrollment Ratio')"
      ]
     },
     "execution_count": 22,
     "metadata": {},
     "output_type": "execute_result"
    },
    {
     "data": {
      "image/png": "[encoded data removed]",
      "text/plain": [
       "<Figure size 1080x360 with 1 Axes>"
      ]
     },
     "metadata": {
      "needs_background": "light"
     },
     "output_type": "display_data"
    }
   ],
   "source": [
    "X = np.arange(3)\n",
    "fig = plt.subplots(figsize =(15,5)) \n",
    "plt.bar(X + 0.00, enroll1['Primary_Boys'], color = 'b', width = 0.05, label='Primary_Boys')\n",
    "plt.bar(X + 0.05, enroll1['Primary_Girls'], color = 'g', width = 0.05,label = 'U_Primary_Girls')\n",
    "plt.bar(X + 0.15, enroll1['Upper_Primary_Boys'], color = 'r', width = 0.05,label='Upper_Primary_Boys')\n",
    "plt.bar(X + 0.20, enroll1['Upper_Primary_Girls'], color = 'm', width = 0.05,label='Upper_Primary_Girls')\n",
    "plt.bar(X + 0.30, enroll1['Secondary_Boys'], color = 'c', width = 0.05,label='Secondary_Boys')\n",
    "plt.bar(X + 0.35, enroll1['Secondary_Girls'], color = 'y', width = 0.05,label='Secondary_Girls')\n",
    "plt.bar(X + 0.45, enroll1['Higher_Secondary_Boys'], color = 'k', width = 0.05,label='Higher_Secondary_Boys')\n",
    "plt.bar(X + 0.50, enroll1['Higher_Secondary_Girls'], color = 'grey', width = 0.05,label='Higher_Secondary_Girls')\n",
    "\n",
    "\n",
    "plt.legend(['Primary_Boys','Primary_Girls','Upper_Primary_Boys','Upper_Primary_Girls','Secondary_Boys','Secondary_Girls',\n",
    "            'Higher_Secondary_Boys','Higher_Secondary_Girls'], loc='center left',bbox_to_anchor=(1, 0.5))\n",
    "plt.xlabel('YEAR', fontweight ='bold') \n",
    "plt.ylabel('PERCENTAGE', fontweight ='bold') \n",
    "plt.xticks([r + 0.25 for r in range(0,3)], \n",
    "           ['2013-14', '2014-15', '2015-16']) \n",
    "plt.title('All India Boys & Girls Enrollment Ratio')\n",
    "#plt.show()"
   ]
  },
  {
   "cell_type": "markdown",
   "metadata": {},
   "source": [
    "Insights:\n",
    "\n",
    "1. Enrollment Ratio has continuously decreased for girls throughout the period.\n",
    "2. There is minute difference between enrollment ratio of boys and girls till secondary. After that there is a huge diff. \n",
    "between both which is around 50%.there are two reasons behind it:\n",
    "    a. After secondary, students move to other states and join coaching instiitutes for their preparation of further stream \n",
    "       i.e. IIT,IPCC,NEET etc.\n",
    "    b. This may happen because of village/rural areas where parents do'nt allow their daughters \n",
    "       for further study.\n",
    "       "
   ]
  },
  {
   "cell_type": "code",
   "execution_count": 23,
   "metadata": {},
   "outputs": [
    {
     "data": {
      "text/plain": [
       "Text(0.5, 1.0, 'All India Boys & Girls Enrollment Ratio')"
      ]
     },
     "execution_count": 23,
     "metadata": {},
     "output_type": "execute_result"
    },
    {
     "data": {
      "image/png": "[encoded data removed]",
      "text/plain": [
       "<Figure size 1080x360 with 1 Axes>"
      ]
     },
     "metadata": {
      "needs_background": "light"
     },
     "output_type": "display_data"
    }
   ],
   "source": [
    "X = np.arange(3)\n",
    "fig = plt.subplots(figsize =(15,5)) \n",
    "plt.bar(X + 0.00, enroll1['Primary_Total'], color = 'b', width = 0.10, label='Primary_Total')\n",
    "plt.bar(X + 0.10, enroll1['Upper_Primary_Total'], color = 'g', width = 0.10,label = 'Upper_Primary_Total')\n",
    "plt.bar(X + 0.20, enroll1['Secondary_Total'], color = 'r', width = 0.10,label='Secondary_Total')\n",
    "plt.bar(X + 0.30, enroll1['Higher_Secondary_Total'], color = 'm', width = 0.10,label='Higher_Secondary_Total')\n",
    "\n",
    "\n",
    "plt.legend(['Primary_Total','Upper_Primary_Total','Secondary_Total','Higher_Secondary_Total'], loc='center left',bbox_to_anchor=(1, 0.5))\n",
    "plt.xlabel('YEAR', fontweight ='bold') \n",
    "plt.ylabel('PERCENTAGE', fontweight ='bold') \n",
    "plt.xticks([r + 0.20 for r in range(0,3)], \n",
    "           ['2013-14', '2014-15', '2015-16']) \n",
    "plt.title('All India Boys & Girls Enrollment Ratio')\n",
    "#plt.show()"
   ]
  },
  {
   "cell_type": "markdown",
   "metadata": {},
   "source": [
    "1)This graph shows that enrollment ratio has decreased pattern every year.\n",
    "2) Enrollment are less at higher secondary level."
   ]
  },
  {
   "cell_type": "markdown",
   "metadata": {},
   "source": [
    "State wise analysis of enrollment ratio for every year"
   ]
  },
  {
   "cell_type": "code",
   "execution_count": 24,
   "metadata": {},
   "outputs": [],
   "source": [
    "f = enroll.loc[enroll['Year'] == '2013-14']\n",
    "g = enroll.loc[enroll['Year'] == '2014-15']\n",
    "h = enroll.loc[enroll['Year'] == '2015-16']"
   ]
  },
  {
   "cell_type": "code",
   "execution_count": 25,
   "metadata": {},
   "outputs": [
    {
     "data": {
      "text/plain": [
       "<matplotlib.legend.Legend at 0x29e49e21c40>"
      ]
     },
     "execution_count": 25,
     "metadata": {},
     "output_type": "execute_result"
    },
    {
     "data": {
      "image/png": "[encoded data removed]",
      "text/plain": [
       "<Figure size 1080x360 with 1 Axes>"
      ]
     },
     "metadata": {
      "needs_background": "light"
     },
     "output_type": "display_data"
    },
    {
     "data": {
      "image/png": "[encoded data removed]",
      "text/plain": [
       "<Figure size 1080x360 with 1 Axes>"
      ]
     },
     "metadata": {
      "needs_background": "light"
     },
     "output_type": "display_data"
    },
    {
     "data": {
      "image/png": "[encoded data removed]",
      "text/plain": [
       "<Figure size 1080x360 with 1 Axes>"
      ]
     },
     "metadata": {
      "needs_background": "light"
     },
     "output_type": "display_data"
    }
   ],
   "source": [
    "#x = np.arange()\n",
    "fig = plt.subplots(figsize =(15,5))\n",
    "plt.xticks(rotation='vertical')\n",
    "plt.bar(f['State_UT'],f['Primary_Total'])\n",
    "plt.bar(f['State_UT'],f['Upper_Primary_Total'])\n",
    "plt.bar(f['State_UT'],f['Secondary_Total'])\n",
    "plt.bar(f['State_UT'],f['Higher_Secondary_Total'])\n",
    "\n",
    "plt.title('2013-14')\n",
    "plt.legend(['Primary_Total','Upper_Primary_Total','Secondary_Total','Higher_Secondary_Total'])\n",
    "\n",
    "fig = plt.subplots(figsize =(15,5))\n",
    "plt.xticks(rotation='vertical')\n",
    "plt.bar(g['State_UT'],g['Primary_Total'])\n",
    "plt.bar(g['State_UT'],g['Upper_Primary_Total'])\n",
    "plt.bar(g['State_UT'],g['Secondary_Total'])\n",
    "plt.bar(g['State_UT'],g['Higher_Secondary_Total'])\n",
    "\n",
    "plt.title('2014-15')\n",
    "plt.legend(['Primary_Total','Upper_Primary_Total','Secondary_Total','Higher_Secondary_Total'])\n",
    "\n",
    "fig = plt.subplots(figsize =(15,5))\n",
    "plt.xticks(rotation='vertical')\n",
    "plt.bar(h['State_UT'],h['Primary_Total'])\n",
    "plt.bar(h['State_UT'],h['Upper_Primary_Total'])\n",
    "plt.bar(h['State_UT'],h['Secondary_Total'])\n",
    "plt.bar(h['State_UT'],h['Higher_Secondary_Total'])\n",
    "\n",
    "plt.title('2015-16')\n",
    "plt.legend(['Primary_Total','Upper_Primary_Total','Secondary_Total','Higher_Secondary_Total'])"
   ]
  },
  {
   "cell_type": "markdown",
   "metadata": {},
   "source": [
    "1) Above graph shows that enrollment was less at higher secondary level.\n",
    "2) Andaman & Nicobar, Chandigarh and HImachal Pradesh are the top 3 in enrollment ratio at higher secondary level among all states.\n",
    "3) Daman & Diu has decreasing pattern at higher secondary level.\n",
    " "
   ]
  },
  {
   "cell_type": "markdown",
   "metadata": {},
   "source": [
    "# RATIOS AND NUMBERS REGARDING COMPUTERS\n",
    " "
   ]
  },
  {
   "cell_type": "code",
   "execution_count": 26,
   "metadata": {},
   "outputs": [],
   "source": [
    "import plotly.graph_objects as go\n",
    "from plotly.offline import iplot\n",
    "%matplotlib inline"
   ]
  },
  {
   "cell_type": "code",
   "execution_count": 27,
   "metadata": {},
   "outputs": [
    {
     "data": {
      "text/html": [
       "<div>\n",
       "<style scoped>\n",
       "    .dataframe tbody tr th:only-of-type {\n",
       "        vertical-align: middle;\n",
       "    }\n",
       "\n",
       "    .dataframe tbody tr th {\n",
       "        vertical-align: top;\n",
       "    }\n",
       "\n",
       "    .dataframe thead th {\n",
       "        text-align: right;\n",
       "    }\n",
       "</style>\n",
       "<table border=\"1\" class=\"dataframe\">\n",
       "  <thead>\n",
       "    <tr style=\"text-align: right;\">\n",
       "      <th></th>\n",
       "      <th>State_UT</th>\n",
       "      <th>year</th>\n",
       "      <th>Primary_Only</th>\n",
       "      <th>Primary_with_U_Primary</th>\n",
       "      <th>Primary_with_U_Primary_Sec_HrSec</th>\n",
       "      <th>U_Primary_Only</th>\n",
       "      <th>U_Primary_With_Sec_HrSec</th>\n",
       "      <th>Primary_with_U_Primary_Sec</th>\n",
       "      <th>U_Primary_With_Sec</th>\n",
       "      <th>Sec_Only</th>\n",
       "      <th>Sec_with_HrSec.</th>\n",
       "      <th>HrSec_Only</th>\n",
       "      <th>All Schools</th>\n",
       "    </tr>\n",
       "  </thead>\n",
       "  <tbody>\n",
       "    <tr>\n",
       "      <th>0</th>\n",
       "      <td>Andaman &amp; Nicobar Islands</td>\n",
       "      <td>2013-14</td>\n",
       "      <td>30.40</td>\n",
       "      <td>73.68</td>\n",
       "      <td>89.74</td>\n",
       "      <td>0.00</td>\n",
       "      <td>100.00</td>\n",
       "      <td>97.92</td>\n",
       "      <td>0.00</td>\n",
       "      <td>0.00</td>\n",
       "      <td>100.00</td>\n",
       "      <td>0.00</td>\n",
       "      <td>53.06</td>\n",
       "    </tr>\n",
       "    <tr>\n",
       "      <th>1</th>\n",
       "      <td>Andaman &amp; Nicobar Islands</td>\n",
       "      <td>2014-15</td>\n",
       "      <td>30.94</td>\n",
       "      <td>76.54</td>\n",
       "      <td>92.11</td>\n",
       "      <td>100.00</td>\n",
       "      <td>94.74</td>\n",
       "      <td>100.00</td>\n",
       "      <td>0.00</td>\n",
       "      <td>0.00</td>\n",
       "      <td>100.00</td>\n",
       "      <td>0.00</td>\n",
       "      <td>57.25</td>\n",
       "    </tr>\n",
       "    <tr>\n",
       "      <th>2</th>\n",
       "      <td>Andaman &amp; Nicobar Islands</td>\n",
       "      <td>2015-16</td>\n",
       "      <td>28.44</td>\n",
       "      <td>78.57</td>\n",
       "      <td>92.50</td>\n",
       "      <td>0.00</td>\n",
       "      <td>94.74</td>\n",
       "      <td>100.00</td>\n",
       "      <td>0.00</td>\n",
       "      <td>0.00</td>\n",
       "      <td>100.00</td>\n",
       "      <td>0.00</td>\n",
       "      <td>57.00</td>\n",
       "    </tr>\n",
       "    <tr>\n",
       "      <th>3</th>\n",
       "      <td>Andhra Pradesh</td>\n",
       "      <td>2013-14</td>\n",
       "      <td>12.73</td>\n",
       "      <td>42.72</td>\n",
       "      <td>86.99</td>\n",
       "      <td>45.45</td>\n",
       "      <td>17.07</td>\n",
       "      <td>68.18</td>\n",
       "      <td>73.23</td>\n",
       "      <td>60.00</td>\n",
       "      <td>33.33</td>\n",
       "      <td>19.32</td>\n",
       "      <td>29.57</td>\n",
       "    </tr>\n",
       "    <tr>\n",
       "      <th>4</th>\n",
       "      <td>Andhra Pradesh</td>\n",
       "      <td>2014-15</td>\n",
       "      <td>10.29</td>\n",
       "      <td>44.15</td>\n",
       "      <td>88.46</td>\n",
       "      <td>50.00</td>\n",
       "      <td>62.22</td>\n",
       "      <td>68.38</td>\n",
       "      <td>76.59</td>\n",
       "      <td>70.97</td>\n",
       "      <td>66.67</td>\n",
       "      <td>41.60</td>\n",
       "      <td>28.06</td>\n",
       "    </tr>\n",
       "  </tbody>\n",
       "</table>\n",
       "</div>"
      ],
      "text/plain": [
       "                    State_UT     year  Primary_Only  Primary_with_U_Primary  \\\n",
       "0  Andaman & Nicobar Islands  2013-14         30.40                   73.68   \n",
       "1  Andaman & Nicobar Islands  2014-15         30.94                   76.54   \n",
       "2  Andaman & Nicobar Islands  2015-16         28.44                   78.57   \n",
       "3             Andhra Pradesh  2013-14         12.73                   42.72   \n",
       "4             Andhra Pradesh  2014-15         10.29                   44.15   \n",
       "\n",
       "   Primary_with_U_Primary_Sec_HrSec  U_Primary_Only  U_Primary_With_Sec_HrSec  \\\n",
       "0                             89.74            0.00                    100.00   \n",
       "1                             92.11          100.00                     94.74   \n",
       "2                             92.50            0.00                     94.74   \n",
       "3                             86.99           45.45                     17.07   \n",
       "4                             88.46           50.00                     62.22   \n",
       "\n",
       "   Primary_with_U_Primary_Sec  U_Primary_With_Sec  Sec_Only  Sec_with_HrSec.  \\\n",
       "0                       97.92                0.00      0.00           100.00   \n",
       "1                      100.00                0.00      0.00           100.00   \n",
       "2                      100.00                0.00      0.00           100.00   \n",
       "3                       68.18               73.23     60.00            33.33   \n",
       "4                       68.38               76.59     70.97            66.67   \n",
       "\n",
       "   HrSec_Only  All Schools  \n",
       "0        0.00        53.06  \n",
       "1        0.00        57.25  \n",
       "2        0.00        57.00  \n",
       "3       19.32        29.57  \n",
       "4       41.60        28.06  "
      ]
     },
     "execution_count": 27,
     "metadata": {},
     "output_type": "execute_result"
    }
   ],
   "source": [
    "pd.set_option('display.max_columns',None)\n",
    "comps.head()\n"
   ]
  },
  {
   "cell_type": "markdown",
   "metadata": {},
   "source": [
    "Let's visualize the 'All School' columns with respect to the states/ut"
   ]
  },
  {
   "cell_type": "code",
   "execution_count": 30,
   "metadata": {},
   "outputs": [
    {
     "data": {
      "text/html": [
       "<div>\n",
       "<style scoped>\n",
       "    .dataframe tbody tr th:only-of-type {\n",
       "        vertical-align: middle;\n",
       "    }\n",
       "\n",
       "    .dataframe tbody tr th {\n",
       "        vertical-align: top;\n",
       "    }\n",
       "\n",
       "    .dataframe thead th {\n",
       "        text-align: right;\n",
       "    }\n",
       "</style>\n",
       "<table border=\"1\" class=\"dataframe\">\n",
       "  <thead>\n",
       "    <tr style=\"text-align: right;\">\n",
       "      <th></th>\n",
       "      <th>State_UT</th>\n",
       "      <th>year</th>\n",
       "      <th>Primary_Only</th>\n",
       "      <th>Primary_with_U_Primary</th>\n",
       "      <th>Primary_with_U_Primary_Sec_HrSec</th>\n",
       "      <th>U_Primary_Only</th>\n",
       "      <th>U_Primary_With_Sec_HrSec</th>\n",
       "      <th>Primary_with_U_Primary_Sec</th>\n",
       "      <th>U_Primary_With_Sec</th>\n",
       "      <th>Sec_Only</th>\n",
       "      <th>Sec_with_HrSec.</th>\n",
       "      <th>HrSec_Only</th>\n",
       "      <th>All Schools</th>\n",
       "    </tr>\n",
       "  </thead>\n",
       "  <tbody>\n",
       "    <tr>\n",
       "      <th>55</th>\n",
       "      <td>Lakshadweep</td>\n",
       "      <td>2014-15</td>\n",
       "      <td>100.00</td>\n",
       "      <td>100.00</td>\n",
       "      <td>100.0</td>\n",
       "      <td>100.0</td>\n",
       "      <td>100.00</td>\n",
       "      <td>0.00</td>\n",
       "      <td>0.0</td>\n",
       "      <td>0.0</td>\n",
       "      <td>100.0</td>\n",
       "      <td>0.0</td>\n",
       "      <td>100.00</td>\n",
       "    </tr>\n",
       "    <tr>\n",
       "      <th>54</th>\n",
       "      <td>Lakshadweep</td>\n",
       "      <td>2013-14</td>\n",
       "      <td>100.00</td>\n",
       "      <td>100.00</td>\n",
       "      <td>100.0</td>\n",
       "      <td>100.0</td>\n",
       "      <td>100.00</td>\n",
       "      <td>0.00</td>\n",
       "      <td>0.0</td>\n",
       "      <td>0.0</td>\n",
       "      <td>100.0</td>\n",
       "      <td>0.0</td>\n",
       "      <td>100.00</td>\n",
       "    </tr>\n",
       "    <tr>\n",
       "      <th>56</th>\n",
       "      <td>Lakshadweep</td>\n",
       "      <td>2015-16</td>\n",
       "      <td>100.00</td>\n",
       "      <td>100.00</td>\n",
       "      <td>100.0</td>\n",
       "      <td>100.0</td>\n",
       "      <td>100.00</td>\n",
       "      <td>100.00</td>\n",
       "      <td>0.0</td>\n",
       "      <td>0.0</td>\n",
       "      <td>100.0</td>\n",
       "      <td>0.0</td>\n",
       "      <td>100.00</td>\n",
       "    </tr>\n",
       "    <tr>\n",
       "      <th>80</th>\n",
       "      <td>Puducherry</td>\n",
       "      <td>2015-16</td>\n",
       "      <td>99.28</td>\n",
       "      <td>97.67</td>\n",
       "      <td>100.0</td>\n",
       "      <td>100.0</td>\n",
       "      <td>100.00</td>\n",
       "      <td>96.99</td>\n",
       "      <td>100.0</td>\n",
       "      <td>0.0</td>\n",
       "      <td>100.0</td>\n",
       "      <td>100.0</td>\n",
       "      <td>98.77</td>\n",
       "    </tr>\n",
       "    <tr>\n",
       "      <th>79</th>\n",
       "      <td>Puducherry</td>\n",
       "      <td>2014-15</td>\n",
       "      <td>98.25</td>\n",
       "      <td>96.84</td>\n",
       "      <td>100.0</td>\n",
       "      <td>100.0</td>\n",
       "      <td>98.08</td>\n",
       "      <td>95.65</td>\n",
       "      <td>100.0</td>\n",
       "      <td>0.0</td>\n",
       "      <td>100.0</td>\n",
       "      <td>100.0</td>\n",
       "      <td>97.81</td>\n",
       "    </tr>\n",
       "  </tbody>\n",
       "</table>\n",
       "</div>"
      ],
      "text/plain": [
       "       State_UT     year  Primary_Only  Primary_with_U_Primary  \\\n",
       "55  Lakshadweep  2014-15        100.00                  100.00   \n",
       "54  Lakshadweep  2013-14        100.00                  100.00   \n",
       "56  Lakshadweep  2015-16        100.00                  100.00   \n",
       "80   Puducherry  2015-16         99.28                   97.67   \n",
       "79   Puducherry  2014-15         98.25                   96.84   \n",
       "\n",
       "    Primary_with_U_Primary_Sec_HrSec  U_Primary_Only  \\\n",
       "55                             100.0           100.0   \n",
       "54                             100.0           100.0   \n",
       "56                             100.0           100.0   \n",
       "80                             100.0           100.0   \n",
       "79                             100.0           100.0   \n",
       "\n",
       "    U_Primary_With_Sec_HrSec  Primary_with_U_Primary_Sec  U_Primary_With_Sec  \\\n",
       "55                    100.00                        0.00                 0.0   \n",
       "54                    100.00                        0.00                 0.0   \n",
       "56                    100.00                      100.00                 0.0   \n",
       "80                    100.00                       96.99               100.0   \n",
       "79                     98.08                       95.65               100.0   \n",
       "\n",
       "    Sec_Only  Sec_with_HrSec.  HrSec_Only  All Schools  \n",
       "55       0.0            100.0         0.0       100.00  \n",
       "54       0.0            100.0         0.0       100.00  \n",
       "56       0.0            100.0         0.0       100.00  \n",
       "80       0.0            100.0       100.0        98.77  \n",
       "79       0.0            100.0       100.0        97.81  "
      ]
     },
     "execution_count": 30,
     "metadata": {},
     "output_type": "execute_result"
    }
   ],
   "source": [
    "list1 = comps.sort_values(['All Schools'], ascending=False)\n",
    "list1.head()"
   ]
  },
  {
   "cell_type": "markdown",
   "metadata": {},
   "source": [
    "Let's visualize using barplot"
   ]
  },
  {
   "cell_type": "code",
   "execution_count": 35,
   "metadata": {},
   "outputs": [
    {
     "data": {
      "application/vnd.plotly.v1+json": {
       "config": {
        "plotlyServerURL": "https://plot.ly"
       },
       "data": [
        {
         "alignmentgroup": "True",
         "hovertemplate": "State_UT=%{x}<br>All Schools=%{y}<extra></extra>",
         "legendgroup": "",
         "marker": {
          "color": "red",
          "opacity": 1,
          "pattern": {
           "shape": ""
          }
         },
         "name": "",
         "offsetgroup": "",
         "orientation": "v",
         "showlegend": false,
         "textposition": "auto",
         "type": "bar",
         "x": [
          "Lakshadweep",
          "Lakshadweep",
          "Lakshadweep",
          "Puducherry",
          "Puducherry",
          "Puducherry",
          "Chandigarh",
          "Chandigarh",
          "Chandigarh",
          "Kerala",
          "Kerala",
          "Kerala",
          "Delhi",
          "Delhi",
          "Delhi",
          "Gujarat",
          "Gujarat",
          "Gujarat",
          "Daman & Diu",
          "Daman & Diu",
          "Daman & Diu",
          "Sikkim",
          "Maharashtra",
          "Sikkim",
          "Tamil Nadu",
          "Tamil Nadu",
          "Andaman & Nicobar Islands",
          "Maharashtra",
          "Andaman & Nicobar Islands",
          "Tamil Nadu",
          "Sikkim",
          "Andaman & Nicobar Islands",
          "Punjab",
          "Maharashtra",
          "Punjab",
          "Punjab",
          "Haryana",
          "Haryana",
          "Goa",
          "Haryana",
          "Goa",
          "Dadra & Nagar Haveli",
          "Goa",
          "Nagaland",
          "Dadra & Nagar Haveli",
          "Karnataka",
          "Karnataka",
          "Dadra & Nagar Haveli",
          "Telangana",
          "Nagaland",
          "Telangana",
          "Karnataka",
          "Nagaland",
          "Uttarakhand",
          "Uttarakhand",
          "Mizoram",
          "Uttarakhand",
          "Mizoram",
          "Andhra Pradesh",
          "Rajasthan",
          "Andhra Pradesh",
          "Rajasthan",
          "Andhra Pradesh",
          "Mizoram",
          "All India",
          "Manipur",
          "All India",
          "Himachal Pradesh",
          "Manipur",
          "Manipur",
          "Arunachal Pradesh",
          "Arunachal Pradesh",
          "Arunachal Pradesh",
          "All India",
          "Himachal Pradesh",
          "Rajasthan",
          "Himachal Pradesh",
          "Jammu And Kashmir",
          "Jammu And Kashmir",
          "Jammu And Kashmir",
          "Tripura",
          "Madhya Pradesh",
          "Tripura",
          "Odisha",
          "Madhya Pradesh",
          "Odisha",
          "Uttar Pradesh",
          "Madhya Pradesh",
          "Uttar Pradesh",
          "Chhattisgarh",
          "West Bengal",
          "West Bengal",
          "Chhattisgarh",
          "Meghalaya",
          "Tripura",
          "Uttar Pradesh",
          "West Bengal",
          "Assam",
          "Meghalaya",
          "Odisha",
          "Jharkhand",
          "Assam",
          "Chhattisgarh",
          "Jharkhand",
          "Bihar",
          "Meghalaya",
          "Jharkhand",
          "Assam",
          "Bihar",
          "Bihar"
         ],
         "xaxis": "x",
         "y": [
          100,
          100,
          100,
          98.77,
          97.81,
          97.62,
          95.83,
          95.43,
          94.53,
          94.5,
          93.77,
          92.63,
          83.89,
          81.56,
          81,
          75.5,
          75.22,
          72.08,
          66.21,
          64.14,
          61.11,
          60.36,
          59.65,
          58.56,
          57.62,
          57.28,
          57.25,
          57.07,
          57,
          54.14,
          53.33,
          53.06,
          52.83,
          52.79,
          52.48,
          51.97,
          46.93,
          46.04,
          44.72,
          44.12,
          43.51,
          42.65,
          40.63,
          40.13,
          40.12,
          39.53,
          38.74,
          38.19,
          37.9,
          35.68,
          35.51,
          35.01,
          34.96,
          33.54,
          32.97,
          32.81,
          31.97,
          31.9,
          30.59,
          30.11,
          29.57,
          28.6,
          28.06,
          27.76,
          27.31,
          27.16,
          26.42,
          26,
          25.57,
          25.23,
          24.68,
          24.36,
          24.28,
          24.08,
          23.85,
          23.47,
          22.49,
          18.32,
          17.56,
          16.73,
          15.65,
          15.17,
          15.11,
          15.03,
          14.58,
          13.72,
          13.31,
          13.03,
          12.72,
          12.7,
          12.67,
          12.13,
          11.88,
          11.74,
          11.4,
          11.12,
          10.77,
          10.76,
          10.64,
          10.58,
          10.28,
          9.83,
          9.8,
          9.71,
          9.37,
          8.98,
          8.94,
          8.85,
          8.19,
          5.47
         ],
         "yaxis": "y"
        }
       ],
       "layout": {
        "barmode": "relative",
        "legend": {
         "tracegroupgap": 0
        },
        "margin": {
         "t": 60
        },
        "template": {
         "data": {
          "bar": [
           {
            "error_x": {
             "color": "#2a3f5f"
            },
            "error_y": {
             "color": "#2a3f5f"
            },
            "marker": {
             "line": {
              "color": "#E5ECF6",
              "width": 0.5
             },
             "pattern": {
              "fillmode": "overlay",
              "size": 10,
              "solidity": 0.2
             }
            },
            "type": "bar"
           }
          ],
          "barpolar": [
           {
            "marker": {
             "line": {
              "color": "#E5ECF6",
              "width": 0.5
             },
             "pattern": {
              "fillmode": "overlay",
              "size": 10,
              "solidity": 0.2
             }
            },
            "type": "barpolar"
           }
          ],
          "carpet": [
           {
            "aaxis": {
             "endlinecolor": "#2a3f5f",
             "gridcolor": "white",
             "linecolor": "white",
             "minorgridcolor": "white",
             "startlinecolor": "#2a3f5f"
            },
            "baxis": {
             "endlinecolor": "#2a3f5f",
             "gridcolor": "white",
             "linecolor": "white",
             "minorgridcolor": "white",
             "startlinecolor": "#2a3f5f"
            },
            "type": "carpet"
           }
          ],
          "choropleth": [
           {
            "colorbar": {
             "outlinewidth": 0,
             "ticks": ""
            },
            "type": "choropleth"
           }
          ],
          "contour": [
           {
            "colorbar": {
             "outlinewidth": 0,
             "ticks": ""
            },
            "colorscale": [
             [
              0,
              "#0d0887"
             ],
             [
              0.1111111111111111,
              "#46039f"
             ],
             [
              0.2222222222222222,
              "#7201a8"
             ],
             [
              0.3333333333333333,
              "#9c179e"
             ],
             [
              0.4444444444444444,
              "#bd3786"
             ],
             [
              0.5555555555555556,
              "#d8576b"
             ],
             [
              0.6666666666666666,
              "#ed7953"
             ],
             [
              0.7777777777777778,
              "#fb9f3a"
             ],
             [
              0.8888888888888888,
              "#fdca26"
             ],
             [
              1,
              "#f0f921"
             ]
            ],
            "type": "contour"
           }
          ],
          "contourcarpet": [
           {
            "colorbar": {
             "outlinewidth": 0,
             "ticks": ""
            },
            "type": "contourcarpet"
           }
          ],
          "heatmap": [
           {
            "colorbar": {
             "outlinewidth": 0,
             "ticks": ""
            },
            "colorscale": [
             [
              0,
              "#0d0887"
             ],
             [
              0.1111111111111111,
              "#46039f"
             ],
             [
              0.2222222222222222,
              "#7201a8"
             ],
             [
              0.3333333333333333,
              "#9c179e"
             ],
             [
              0.4444444444444444,
              "#bd3786"
             ],
             [
              0.5555555555555556,
              "#d8576b"
             ],
             [
              0.6666666666666666,
              "#ed7953"
             ],
             [
              0.7777777777777778,
              "#fb9f3a"
             ],
             [
              0.8888888888888888,
              "#fdca26"
             ],
             [
              1,
              "#f0f921"
             ]
            ],
            "type": "heatmap"
           }
          ],
          "heatmapgl": [
           {
            "colorbar": {
             "outlinewidth": 0,
             "ticks": ""
            },
            "colorscale": [
             [
              0,
              "#0d0887"
             ],
             [
              0.1111111111111111,
              "#46039f"
             ],
             [
              0.2222222222222222,
              "#7201a8"
             ],
             [
              0.3333333333333333,
              "#9c179e"
             ],
             [
              0.4444444444444444,
              "#bd3786"
             ],
             [
              0.5555555555555556,
              "#d8576b"
             ],
             [
              0.6666666666666666,
              "#ed7953"
             ],
             [
              0.7777777777777778,
              "#fb9f3a"
             ],
             [
              0.8888888888888888,
              "#fdca26"
             ],
             [
              1,
              "#f0f921"
             ]
            ],
            "type": "heatmapgl"
           }
          ],
          "histogram": [
           {
            "marker": {
             "pattern": {
              "fillmode": "overlay",
              "size": 10,
              "solidity": 0.2
             }
            },
            "type": "histogram"
           }
          ],
          "histogram2d": [
           {
            "colorbar": {
             "outlinewidth": 0,
             "ticks": ""
            },
            "colorscale": [
             [
              0,
              "#0d0887"
             ],
             [
              0.1111111111111111,
              "#46039f"
             ],
             [
              0.2222222222222222,
              "#7201a8"
             ],
             [
              0.3333333333333333,
              "#9c179e"
             ],
             [
              0.4444444444444444,
              "#bd3786"
             ],
             [
              0.5555555555555556,
              "#d8576b"
             ],
             [
              0.6666666666666666,
              "#ed7953"
             ],
             [
              0.7777777777777778,
              "#fb9f3a"
             ],
             [
              0.8888888888888888,
              "#fdca26"
             ],
             [
              1,
              "#f0f921"
             ]
            ],
            "type": "histogram2d"
           }
          ],
          "histogram2dcontour": [
           {
            "colorbar": {
             "outlinewidth": 0,
             "ticks": ""
            },
            "colorscale": [
             [
              0,
              "#0d0887"
             ],
             [
              0.1111111111111111,
              "#46039f"
             ],
             [
              0.2222222222222222,
              "#7201a8"
             ],
             [
              0.3333333333333333,
              "#9c179e"
             ],
             [
              0.4444444444444444,
              "#bd3786"
             ],
             [
              0.5555555555555556,
              "#d8576b"
             ],
             [
              0.6666666666666666,
              "#ed7953"
             ],
             [
              0.7777777777777778,
              "#fb9f3a"
             ],
             [
              0.8888888888888888,
              "#fdca26"
             ],
             [
              1,
              "#f0f921"
             ]
            ],
            "type": "histogram2dcontour"
           }
          ],
          "mesh3d": [
           {
            "colorbar": {
             "outlinewidth": 0,
             "ticks": ""
            },
            "type": "mesh3d"
           }
          ],
          "parcoords": [
           {
            "line": {
             "colorbar": {
              "outlinewidth": 0,
              "ticks": ""
             }
            },
            "type": "parcoords"
           }
          ],
          "pie": [
           {
            "automargin": true,
            "type": "pie"
           }
          ],
          "scatter": [
           {
            "marker": {
             "colorbar": {
              "outlinewidth": 0,
              "ticks": ""
             }
            },
            "type": "scatter"
           }
          ],
          "scatter3d": [
           {
            "line": {
             "colorbar": {
              "outlinewidth": 0,
              "ticks": ""
             }
            },
            "marker": {
             "colorbar": {
              "outlinewidth": 0,
              "ticks": ""
             }
            },
            "type": "scatter3d"
           }
          ],
          "scattercarpet": [
           {
            "marker": {
             "colorbar": {
              "outlinewidth": 0,
              "ticks": ""
             }
            },
            "type": "scattercarpet"
           }
          ],
          "scattergeo": [
           {
            "marker": {
             "colorbar": {
              "outlinewidth": 0,
              "ticks": ""
             }
            },
            "type": "scattergeo"
           }
          ],
          "scattergl": [
           {
            "marker": {
             "colorbar": {
              "outlinewidth": 0,
              "ticks": ""
             }
            },
            "type": "scattergl"
           }
          ],
          "scattermapbox": [
           {
            "marker": {
             "colorbar": {
              "outlinewidth": 0,
              "ticks": ""
             }
            },
            "type": "scattermapbox"
           }
          ],
          "scatterpolar": [
           {
            "marker": {
             "colorbar": {
              "outlinewidth": 0,
              "ticks": ""
             }
            },
            "type": "scatterpolar"
           }
          ],
          "scatterpolargl": [
           {
            "marker": {
             "colorbar": {
              "outlinewidth": 0,
              "ticks": ""
             }
            },
            "type": "scatterpolargl"
           }
          ],
          "scatterternary": [
           {
            "marker": {
             "colorbar": {
              "outlinewidth": 0,
              "ticks": ""
             }
            },
            "type": "scatterternary"
           }
          ],
          "surface": [
           {
            "colorbar": {
             "outlinewidth": 0,
             "ticks": ""
            },
            "colorscale": [
             [
              0,
              "#0d0887"
             ],
             [
              0.1111111111111111,
              "#46039f"
             ],
             [
              0.2222222222222222,
              "#7201a8"
             ],
             [
              0.3333333333333333,
              "#9c179e"
             ],
             [
              0.4444444444444444,
              "#bd3786"
             ],
             [
              0.5555555555555556,
              "#d8576b"
             ],
             [
              0.6666666666666666,
              "#ed7953"
             ],
             [
              0.7777777777777778,
              "#fb9f3a"
             ],
             [
              0.8888888888888888,
              "#fdca26"
             ],
             [
              1,
              "#f0f921"
             ]
            ],
            "type": "surface"
           }
          ],
          "table": [
           {
            "cells": {
             "fill": {
              "color": "#EBF0F8"
             },
             "line": {
              "color": "white"
             }
            },
            "header": {
             "fill": {
              "color": "#C8D4E3"
             },
             "line": {
              "color": "white"
             }
            },
            "type": "table"
           }
          ]
         },
         "layout": {
          "annotationdefaults": {
           "arrowcolor": "#2a3f5f",
           "arrowhead": 0,
           "arrowwidth": 1
          },
          "autotypenumbers": "strict",
          "coloraxis": {
           "colorbar": {
            "outlinewidth": 0,
            "ticks": ""
           }
          },
          "colorscale": {
           "diverging": [
            [
             0,
             "#8e0152"
            ],
            [
             0.1,
             "#c51b7d"
            ],
            [
             0.2,
             "#de77ae"
            ],
            [
             0.3,
             "#f1b6da"
            ],
            [
             0.4,
             "#fde0ef"
            ],
            [
             0.5,
             "#f7f7f7"
            ],
            [
             0.6,
             "#e6f5d0"
            ],
            [
             0.7,
             "#b8e186"
            ],
            [
             0.8,
             "#7fbc41"
            ],
            [
             0.9,
             "#4d9221"
            ],
            [
             1,
             "#276419"
            ]
           ],
           "sequential": [
            [
             0,
             "#0d0887"
            ],
            [
             0.1111111111111111,
             "#46039f"
            ],
            [
             0.2222222222222222,
             "#7201a8"
            ],
            [
             0.3333333333333333,
             "#9c179e"
            ],
            [
             0.4444444444444444,
             "#bd3786"
            ],
            [
             0.5555555555555556,
             "#d8576b"
            ],
            [
             0.6666666666666666,
             "#ed7953"
            ],
            [
             0.7777777777777778,
             "#fb9f3a"
            ],
            [
             0.8888888888888888,
             "#fdca26"
            ],
            [
             1,
             "#f0f921"
            ]
           ],
           "sequentialminus": [
            [
             0,
             "#0d0887"
            ],
            [
             0.1111111111111111,
             "#46039f"
            ],
            [
             0.2222222222222222,
             "#7201a8"
            ],
            [
             0.3333333333333333,
             "#9c179e"
            ],
            [
             0.4444444444444444,
             "#bd3786"
            ],
            [
             0.5555555555555556,
             "#d8576b"
            ],
            [
             0.6666666666666666,
             "#ed7953"
            ],
            [
             0.7777777777777778,
             "#fb9f3a"
            ],
            [
             0.8888888888888888,
             "#fdca26"
            ],
            [
             1,
             "#f0f921"
            ]
           ]
          },
          "colorway": [
           "#636efa",
           "#EF553B",
           "#00cc96",
           "#ab63fa",
           "#FFA15A",
           "#19d3f3",
           "#FF6692",
           "#B6E880",
           "#FF97FF",
           "#FECB52"
          ],
          "font": {
           "color": "#2a3f5f"
          },
          "geo": {
           "bgcolor": "white",
           "lakecolor": "white",
           "landcolor": "#E5ECF6",
           "showlakes": true,
           "showland": true,
           "subunitcolor": "white"
          },
          "hoverlabel": {
           "align": "left"
          },
          "hovermode": "closest",
          "mapbox": {
           "style": "light"
          },
          "paper_bgcolor": "white",
          "plot_bgcolor": "#E5ECF6",
          "polar": {
           "angularaxis": {
            "gridcolor": "white",
            "linecolor": "white",
            "ticks": ""
           },
           "bgcolor": "#E5ECF6",
           "radialaxis": {
            "gridcolor": "white",
            "linecolor": "white",
            "ticks": ""
           }
          },
          "scene": {
           "xaxis": {
            "backgroundcolor": "#E5ECF6",
            "gridcolor": "white",
            "gridwidth": 2,
            "linecolor": "white",
            "showbackground": true,
            "ticks": "",
            "zerolinecolor": "white"
           },
           "yaxis": {
            "backgroundcolor": "#E5ECF6",
            "gridcolor": "white",
            "gridwidth": 2,
            "linecolor": "white",
            "showbackground": true,
            "ticks": "",
            "zerolinecolor": "white"
           },
           "zaxis": {
            "backgroundcolor": "#E5ECF6",
            "gridcolor": "white",
            "gridwidth": 2,
            "linecolor": "white",
            "showbackground": true,
            "ticks": "",
            "zerolinecolor": "white"
           }
          },
          "shapedefaults": {
           "line": {
            "color": "#2a3f5f"
           }
          },
          "ternary": {
           "aaxis": {
            "gridcolor": "white",
            "linecolor": "white",
            "ticks": ""
           },
           "baxis": {
            "gridcolor": "white",
            "linecolor": "white",
            "ticks": ""
           },
           "bgcolor": "#E5ECF6",
           "caxis": {
            "gridcolor": "white",
            "linecolor": "white",
            "ticks": ""
           }
          },
          "title": {
           "x": 0.05
          },
          "xaxis": {
           "automargin": true,
           "gridcolor": "white",
           "linecolor": "white",
           "ticks": "",
           "title": {
            "standoff": 15
           },
           "zerolinecolor": "white",
           "zerolinewidth": 2
          },
          "yaxis": {
           "automargin": true,
           "gridcolor": "white",
           "linecolor": "white",
           "ticks": "",
           "title": {
            "standoff": 15
           },
           "zerolinecolor": "white",
           "zerolinewidth": 2
          }
         }
        },
        "xaxis": {
         "anchor": "y",
         "domain": [
          0,
          1
         ],
         "title": {
          "text": "State_UT"
         }
        },
        "yaxis": {
         "anchor": "x",
         "domain": [
          0,
          1
         ],
         "title": {
          "text": "All Schools"
         }
        }
       }
      }
     },
     "metadata": {},
     "output_type": "display_data"
    }
   ],
   "source": [
    "px.bar(data_frame=list1,x = 'State_UT', y = 'All Schools', labels={'x':'State and UT', 'y':'All Schools'}, opacity=1,color_discrete_sequence=['red'])"
   ]
  },
  {
   "cell_type": "markdown",
   "metadata": {},
   "source": [
    "From the bar graph above we can see that union territories like Lakshadweep,Puducherry and\n",
    "Chandigarh have contributed the most towards the \"computerized\" schools,however these have small populations,\n",
    "so if we have a look at the states,Kerala has contributed the most towards the idea of\n",
    "\"computerised\" schools,and states like Bihar and Jharkhand have not many Contributions:"
   ]
  },
  {
   "cell_type": "markdown",
   "metadata": {},
   "source": [
    "Let's Visualise using PIE CHART"
   ]
  },
  {
   "cell_type": "code",
   "execution_count": null,
   "metadata": {},
   "outputs": [],
   "source": [
    "chart = px.pie(data_frame=list1,values='All_Schools',names='State_UT',height=600)\n",
    "chart.update_traces(textposition='inside')"
   ]
  }
 ],
 "metadata": {
  "interpreter": {
   "hash": "06cb67651ce969e244f20f184e33f4ddb1106793adfe07cf7ddc131c95c4012f"
  },
  "kernelspec": {
   "display_name": "Python 3.9.2 64-bit",
   "language": "python",
   "name": "python3"
  },
  "language_info": {
   "codemirror_mode": {
    "name": "ipython",
    "version": 3
   },
   "file_extension": ".py",
   "mimetype": "text/x-python",
   "name": "python",
   "nbconvert_exporter": "python",
   "pygments_lexer": "ipython3",
   "version": "3.9.2"
  },
  "orig_nbformat": 4
 },
 "nbformat": 4,
 "nbformat_minor": 2
}
